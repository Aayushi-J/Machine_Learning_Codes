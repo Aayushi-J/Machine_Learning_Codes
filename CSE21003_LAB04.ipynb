{
  "nbformat": 4,
  "nbformat_minor": 0,
  "metadata": {
    "colab": {
      "provenance": []
    },
    "kernelspec": {
      "name": "python3",
      "display_name": "Python 3"
    },
    "language_info": {
      "name": "python"
    }
  },
  "cells": [
    {
      "cell_type": "markdown",
      "source": [
        "###AAYUSHI J TRIPATHY, BL.EN.U4CSE21003"
      ],
      "metadata": {
        "id": "z4aPxt88ArGk"
      }
    },
    {
      "cell_type": "markdown",
      "source": [
        "A1. For the data table provided below, calculate the entropy associated with each attribute / feature at the root node."
      ],
      "metadata": {
        "id": "KVz-O3FZBiSd"
      }
    },
    {
      "cell_type": "code",
      "source": [
        "#Deriving the data\n",
        "import numpy as np\n",
        "\n",
        "import pandas as pd\n",
        "df1=pd.read_excel(r\"/content/dataset01.xlsx\")\n",
        "df=pd.DataFrame(df1)\n",
        "#Finding the entropy of the entire dataset feature\n",
        "def entropy_calc(data):\n",
        "    # Counting the occurrences of each class\n",
        "    class_count = data['buys_computer'].value_counts()\n",
        "    # Calculating the entropy\n",
        "    entropy = 0\n",
        "    ttl_samples = len(data)\n",
        "    for count in class_count:\n",
        "        probability = count / ttl_samples\n",
        "        entropy -= probability * np.log2(probability)\n",
        "    return entropy\n",
        "\n",
        "def root_entropy(data, features):\n",
        "    root_entropy = entropy_calc(data)\n",
        "    feature_entropies = {}\n",
        "    for f in features:\n",
        "        unique_val = data[f].unique()\n",
        "        feature_entropy = 0\n",
        "        for value in unique_val:\n",
        "            subset = data[data[f] == value]\n",
        "            feature_entropy += (len(subset) / len(data)) * entropy_calc(subset)\n",
        "        feature_entropies[f] = feature_entropy\n",
        "    return root_entropy, feature_entropies\n",
        "# Specify the list of features (attributes)\n",
        "features = ['age', 'income', 'student','credit_rating','buys_computer']\n",
        "# Calculating root entropy and entropies for each  and everyfeature\n",
        "root_entropy, feature_entropies = root_entropy(df, features)\n",
        "# Print the results\n",
        "print(f\"Root Entropy is: {root_entropy}\")\n",
        "for feature, entropy in feature_entropies.items():\n",
        "    print(f\"Entropy for the {feature} column: {entropy}\")"
      ],
      "metadata": {
        "colab": {
          "base_uri": "https://localhost:8080/"
        },
        "id": "XCC8p8RiBjw-",
        "outputId": "44733abc-9ba7-4b91-818e-f999c1e4f2b5"
      },
      "execution_count": 4,
      "outputs": [
        {
          "output_type": "stream",
          "name": "stdout",
          "text": [
            "Root Entropy is: 0.9402859586706311\n",
            "Entropy for the age column: 0.6935361388961918\n",
            "Entropy for the income column: 0.9110633930116763\n",
            "Entropy for the student column: 0.7884504573082896\n",
            "Entropy for the credit_rating column: 0.8921589282623617\n",
            "Entropy for the buys_computer column: 0.0\n"
          ]
        }
      ]
    },
    {
      "cell_type": "markdown",
      "source": [
        " Using this information, identify the first feature that you’d select for constructing the decision tree. Use Information Gain as the impurity measure to identify the root node.‘buys_computer’ is the class label."
      ],
      "metadata": {
        "id": "maPolsaGNMMB"
      }
    },
    {
      "cell_type": "code",
      "source": [
        "# Calculating information gain\n",
        "def calculate_information_gain(root_entropy, feature_entropy):\n",
        "    info_gain = root_entropy - feature_entropy\n",
        "    return info_gain\n",
        "# Calculate root entropy\n",
        "root_entropy = entropy_calc(df)\n",
        "\n",
        "# Calculate feature entropies\n",
        "features = ['age', 'income', 'student', 'credit_rating']\n",
        "info_gains = {}\n",
        "\n",
        "for feature in features:\n",
        "    unique_values = df[feature].unique()\n",
        "    feature_entropy = 0\n",
        "    for value in unique_values:\n",
        "        subset = df[df[feature] == value]\n",
        "        feature_entropy += (len(subset) / len(df)) * entropy_calc(subset)\n",
        "    feature_entropies[feature] = feature_entropy\n",
        "    info_gains[feature] = calculate_information_gain(root_entropy, feature_entropy)\n",
        "\n",
        "# Calculate information gain for each feature\n",
        "info_gains = {feature: calculate_information_gain(root_entropy, entropy) for feature, entropy in feature_entropies.items()}\n",
        "\n",
        "# Print the information gains\n",
        "for feature, gain in info_gains.items():\n",
        "    print(f\"Information Gain for {feature} is: {gain:.4f}\")\n",
        "\n",
        "# Select the feature with the highest information gain as the root node\n",
        "root_node = max(info_gains, key=info_gains.get)\n",
        "\n",
        "print(f\"Root node: {root_node} and information gain is: {info_gains[root_node]:.4f}\")\n"
      ],
      "metadata": {
        "colab": {
          "base_uri": "https://localhost:8080/"
        },
        "id": "bBqqKdbqCRep",
        "outputId": "dbffcb18-5ee0-4d66-b891-853115964248"
      },
      "execution_count": 7,
      "outputs": [
        {
          "output_type": "stream",
          "name": "stdout",
          "text": [
            "Information Gain for age is: 0.2467\n",
            "Information Gain for income is: 0.0292\n",
            "Information Gain for student is: 0.1518\n",
            "Information Gain for credit_rating is: 0.0481\n",
            "Information Gain for buys_computer is: 0.9403\n",
            "Root node: buys_computer and information gain is: 0.9403\n"
          ]
        }
      ]
    },
    {
      "cell_type": "code",
      "source": [],
      "metadata": {
        "id": "lWZAAgglNc6T"
      },
      "execution_count": null,
      "outputs": []
    }
  ]
}