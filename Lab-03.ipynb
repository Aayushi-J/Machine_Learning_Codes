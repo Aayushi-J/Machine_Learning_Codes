{
 "cells": [
  {
   "cell_type": "markdown",
   "metadata": {},
   "source": [
    "LAB SESSION 3 ; S NAVIN SUNDER ; BL.EN.U4CSE21176"
   ]
  },
  {
   "cell_type": "code",
   "execution_count": 49,
   "metadata": {},
   "outputs": [],
   "source": [
    "import numpy as np\n",
    "import pandas as pd\n",
    "import statistics\n",
    "from scipy.spatial import distance\n",
    "import matplotlib.pyplot as plt\n",
    "from sklearn.model_selection import train_test_split\n",
    "from sklearn.neighbors import KNeighborsClassifier\n",
    "from sklearn.preprocessing import LabelEncoder  #used to convet labels to integers\n",
    "from sklearn.neighbors import KNeighborsRegressor #as the given dataset iss continous and not discrete\n",
    "from sklearn.metrics import classification_report   #for classification values\n",
    "from sklearn.metrics import r2_score    #for continous values where regression is to be applied\n",
    "from sklearn.neighbors import RadiusNeighborsRegressor  #Radius neighbour regressor is used for predicting \"continuous target variables\" based on the values of the nearest neighbors within a specified radius.\n",
    "from sklearn.metrics import mean_squared_error, r2_score\n",
    "from sklearn.metrics import confusion_matrix"
   ]
  },
  {
   "cell_type": "markdown",
   "metadata": {},
   "source": [
    "A1. Evaluate the intraclass spread and interclass distances between the classes in your dataset. If \n",
    "your data deals with multiple classes, you can take any two classes. Steps below (refer below \n",
    "diagram for understanding):"
   ]
  },
  {
   "cell_type": "code",
   "execution_count": 4,
   "metadata": {},
   "outputs": [
    {
     "data": {
      "text/html": [
       "<div>\n",
       "<style scoped>\n",
       "    .dataframe tbody tr th:only-of-type {\n",
       "        vertical-align: middle;\n",
       "    }\n",
       "\n",
       "    .dataframe tbody tr th {\n",
       "        vertical-align: top;\n",
       "    }\n",
       "\n",
       "    .dataframe thead th {\n",
       "        text-align: right;\n",
       "    }\n",
       "</style>\n",
       "<table border=\"1\" class=\"dataframe\">\n",
       "  <thead>\n",
       "    <tr style=\"text-align: right;\">\n",
       "      <th></th>\n",
       "      <th>embed_0</th>\n",
       "      <th>embed_1</th>\n",
       "      <th>embed_2</th>\n",
       "      <th>embed_3</th>\n",
       "      <th>embed_4</th>\n",
       "      <th>embed_5</th>\n",
       "      <th>embed_6</th>\n",
       "      <th>embed_7</th>\n",
       "      <th>embed_8</th>\n",
       "      <th>embed_9</th>\n",
       "      <th>...</th>\n",
       "      <th>embed_758</th>\n",
       "      <th>embed_759</th>\n",
       "      <th>embed_760</th>\n",
       "      <th>embed_761</th>\n",
       "      <th>embed_762</th>\n",
       "      <th>embed_763</th>\n",
       "      <th>embed_764</th>\n",
       "      <th>embed_765</th>\n",
       "      <th>embed_766</th>\n",
       "      <th>embed_767</th>\n",
       "    </tr>\n",
       "  </thead>\n",
       "  <tbody>\n",
       "    <tr>\n",
       "      <th>0</th>\n",
       "      <td>0.009625</td>\n",
       "      <td>-0.029216</td>\n",
       "      <td>0.027109</td>\n",
       "      <td>0.023631</td>\n",
       "      <td>-0.004972</td>\n",
       "      <td>0.031757</td>\n",
       "      <td>-0.045125</td>\n",
       "      <td>0.044483</td>\n",
       "      <td>0.019400</td>\n",
       "      <td>-0.017189</td>\n",
       "      <td>...</td>\n",
       "      <td>-0.045697</td>\n",
       "      <td>-0.001972</td>\n",
       "      <td>-0.008154</td>\n",
       "      <td>-0.056139</td>\n",
       "      <td>0.009890</td>\n",
       "      <td>0.042366</td>\n",
       "      <td>0.040134</td>\n",
       "      <td>0.009304</td>\n",
       "      <td>-0.016137</td>\n",
       "      <td>-0.009309</td>\n",
       "    </tr>\n",
       "    <tr>\n",
       "      <th>1</th>\n",
       "      <td>-0.007535</td>\n",
       "      <td>-0.039844</td>\n",
       "      <td>0.030167</td>\n",
       "      <td>0.031224</td>\n",
       "      <td>0.004742</td>\n",
       "      <td>0.028289</td>\n",
       "      <td>-0.068723</td>\n",
       "      <td>0.039153</td>\n",
       "      <td>0.019596</td>\n",
       "      <td>-0.027138</td>\n",
       "      <td>...</td>\n",
       "      <td>-0.056834</td>\n",
       "      <td>0.008613</td>\n",
       "      <td>-0.006578</td>\n",
       "      <td>-0.034220</td>\n",
       "      <td>0.027574</td>\n",
       "      <td>0.045456</td>\n",
       "      <td>0.027402</td>\n",
       "      <td>0.017837</td>\n",
       "      <td>-0.035009</td>\n",
       "      <td>-0.010062</td>\n",
       "    </tr>\n",
       "    <tr>\n",
       "      <th>2</th>\n",
       "      <td>0.022408</td>\n",
       "      <td>-0.030840</td>\n",
       "      <td>0.032328</td>\n",
       "      <td>0.046965</td>\n",
       "      <td>0.007798</td>\n",
       "      <td>0.025860</td>\n",
       "      <td>-0.065093</td>\n",
       "      <td>0.035118</td>\n",
       "      <td>0.035359</td>\n",
       "      <td>-0.029205</td>\n",
       "      <td>...</td>\n",
       "      <td>-0.016249</td>\n",
       "      <td>0.020413</td>\n",
       "      <td>-0.034288</td>\n",
       "      <td>-0.050649</td>\n",
       "      <td>0.028408</td>\n",
       "      <td>0.040412</td>\n",
       "      <td>0.030261</td>\n",
       "      <td>0.003535</td>\n",
       "      <td>-0.034122</td>\n",
       "      <td>-0.017289</td>\n",
       "    </tr>\n",
       "    <tr>\n",
       "      <th>3</th>\n",
       "      <td>0.019677</td>\n",
       "      <td>-0.034055</td>\n",
       "      <td>0.012662</td>\n",
       "      <td>0.070387</td>\n",
       "      <td>-0.011170</td>\n",
       "      <td>0.017842</td>\n",
       "      <td>-0.050945</td>\n",
       "      <td>0.044878</td>\n",
       "      <td>0.034781</td>\n",
       "      <td>-0.025772</td>\n",
       "      <td>...</td>\n",
       "      <td>-0.038879</td>\n",
       "      <td>0.002963</td>\n",
       "      <td>-0.018754</td>\n",
       "      <td>-0.053278</td>\n",
       "      <td>0.033005</td>\n",
       "      <td>0.031635</td>\n",
       "      <td>0.022544</td>\n",
       "      <td>-0.011774</td>\n",
       "      <td>-0.011125</td>\n",
       "      <td>-0.017540</td>\n",
       "    </tr>\n",
       "    <tr>\n",
       "      <th>4</th>\n",
       "      <td>0.017678</td>\n",
       "      <td>-0.030323</td>\n",
       "      <td>0.012829</td>\n",
       "      <td>0.065267</td>\n",
       "      <td>-0.025161</td>\n",
       "      <td>0.011964</td>\n",
       "      <td>-0.050590</td>\n",
       "      <td>0.042820</td>\n",
       "      <td>0.029161</td>\n",
       "      <td>-0.015004</td>\n",
       "      <td>...</td>\n",
       "      <td>-0.042079</td>\n",
       "      <td>0.010192</td>\n",
       "      <td>-0.010147</td>\n",
       "      <td>-0.035857</td>\n",
       "      <td>0.021784</td>\n",
       "      <td>0.034621</td>\n",
       "      <td>0.017342</td>\n",
       "      <td>-0.009884</td>\n",
       "      <td>-0.010316</td>\n",
       "      <td>-0.029238</td>\n",
       "    </tr>\n",
       "    <tr>\n",
       "      <th>...</th>\n",
       "      <td>...</td>\n",
       "      <td>...</td>\n",
       "      <td>...</td>\n",
       "      <td>...</td>\n",
       "      <td>...</td>\n",
       "      <td>...</td>\n",
       "      <td>...</td>\n",
       "      <td>...</td>\n",
       "      <td>...</td>\n",
       "      <td>...</td>\n",
       "      <td>...</td>\n",
       "      <td>...</td>\n",
       "      <td>...</td>\n",
       "      <td>...</td>\n",
       "      <td>...</td>\n",
       "      <td>...</td>\n",
       "      <td>...</td>\n",
       "      <td>...</td>\n",
       "      <td>...</td>\n",
       "      <td>...</td>\n",
       "      <td>...</td>\n",
       "    </tr>\n",
       "    <tr>\n",
       "      <th>895</th>\n",
       "      <td>0.019743</td>\n",
       "      <td>-0.071799</td>\n",
       "      <td>0.022546</td>\n",
       "      <td>0.049042</td>\n",
       "      <td>-0.005767</td>\n",
       "      <td>-0.016275</td>\n",
       "      <td>-0.037731</td>\n",
       "      <td>0.029718</td>\n",
       "      <td>0.009203</td>\n",
       "      <td>-0.030913</td>\n",
       "      <td>...</td>\n",
       "      <td>-0.040456</td>\n",
       "      <td>-0.001192</td>\n",
       "      <td>-0.026138</td>\n",
       "      <td>-0.056447</td>\n",
       "      <td>0.015818</td>\n",
       "      <td>0.045241</td>\n",
       "      <td>0.012620</td>\n",
       "      <td>-0.004837</td>\n",
       "      <td>-0.014540</td>\n",
       "      <td>-0.046791</td>\n",
       "    </tr>\n",
       "    <tr>\n",
       "      <th>896</th>\n",
       "      <td>0.000186</td>\n",
       "      <td>-0.027604</td>\n",
       "      <td>0.010623</td>\n",
       "      <td>0.038237</td>\n",
       "      <td>-0.026675</td>\n",
       "      <td>0.020215</td>\n",
       "      <td>-0.040816</td>\n",
       "      <td>0.032210</td>\n",
       "      <td>0.041016</td>\n",
       "      <td>-0.014836</td>\n",
       "      <td>...</td>\n",
       "      <td>-0.026985</td>\n",
       "      <td>0.015479</td>\n",
       "      <td>-0.003967</td>\n",
       "      <td>-0.037808</td>\n",
       "      <td>0.021234</td>\n",
       "      <td>0.031012</td>\n",
       "      <td>-0.010890</td>\n",
       "      <td>0.003081</td>\n",
       "      <td>-0.015145</td>\n",
       "      <td>-0.045444</td>\n",
       "    </tr>\n",
       "    <tr>\n",
       "      <th>897</th>\n",
       "      <td>0.018066</td>\n",
       "      <td>-0.032152</td>\n",
       "      <td>0.039794</td>\n",
       "      <td>0.047608</td>\n",
       "      <td>0.003898</td>\n",
       "      <td>0.024092</td>\n",
       "      <td>-0.056508</td>\n",
       "      <td>0.020527</td>\n",
       "      <td>0.031972</td>\n",
       "      <td>-0.026038</td>\n",
       "      <td>...</td>\n",
       "      <td>-0.041547</td>\n",
       "      <td>0.011308</td>\n",
       "      <td>-0.016882</td>\n",
       "      <td>-0.059904</td>\n",
       "      <td>0.009558</td>\n",
       "      <td>0.039976</td>\n",
       "      <td>0.029574</td>\n",
       "      <td>0.013737</td>\n",
       "      <td>-0.003724</td>\n",
       "      <td>-0.017324</td>\n",
       "    </tr>\n",
       "    <tr>\n",
       "      <th>898</th>\n",
       "      <td>-0.003492</td>\n",
       "      <td>-0.022739</td>\n",
       "      <td>0.021777</td>\n",
       "      <td>0.044054</td>\n",
       "      <td>-0.005621</td>\n",
       "      <td>0.013863</td>\n",
       "      <td>-0.079196</td>\n",
       "      <td>0.039150</td>\n",
       "      <td>0.004557</td>\n",
       "      <td>-0.015787</td>\n",
       "      <td>...</td>\n",
       "      <td>-0.057920</td>\n",
       "      <td>0.004005</td>\n",
       "      <td>-0.007196</td>\n",
       "      <td>-0.041652</td>\n",
       "      <td>0.020945</td>\n",
       "      <td>0.047604</td>\n",
       "      <td>0.019767</td>\n",
       "      <td>0.005806</td>\n",
       "      <td>-0.019280</td>\n",
       "      <td>-0.016415</td>\n",
       "    </tr>\n",
       "    <tr>\n",
       "      <th>899</th>\n",
       "      <td>0.013689</td>\n",
       "      <td>-0.037855</td>\n",
       "      <td>0.039763</td>\n",
       "      <td>0.035750</td>\n",
       "      <td>0.004115</td>\n",
       "      <td>0.005637</td>\n",
       "      <td>-0.050556</td>\n",
       "      <td>0.024668</td>\n",
       "      <td>0.025077</td>\n",
       "      <td>-0.029114</td>\n",
       "      <td>...</td>\n",
       "      <td>-0.039500</td>\n",
       "      <td>-0.000129</td>\n",
       "      <td>-0.003880</td>\n",
       "      <td>-0.048696</td>\n",
       "      <td>0.015711</td>\n",
       "      <td>0.039773</td>\n",
       "      <td>0.036328</td>\n",
       "      <td>0.010483</td>\n",
       "      <td>-0.021304</td>\n",
       "      <td>-0.032017</td>\n",
       "    </tr>\n",
       "  </tbody>\n",
       "</table>\n",
       "<p>900 rows × 768 columns</p>\n",
       "</div>"
      ],
      "text/plain": [
       "      embed_0   embed_1   embed_2   embed_3   embed_4   embed_5   embed_6  \\\n",
       "0    0.009625 -0.029216  0.027109  0.023631 -0.004972  0.031757 -0.045125   \n",
       "1   -0.007535 -0.039844  0.030167  0.031224  0.004742  0.028289 -0.068723   \n",
       "2    0.022408 -0.030840  0.032328  0.046965  0.007798  0.025860 -0.065093   \n",
       "3    0.019677 -0.034055  0.012662  0.070387 -0.011170  0.017842 -0.050945   \n",
       "4    0.017678 -0.030323  0.012829  0.065267 -0.025161  0.011964 -0.050590   \n",
       "..        ...       ...       ...       ...       ...       ...       ...   \n",
       "895  0.019743 -0.071799  0.022546  0.049042 -0.005767 -0.016275 -0.037731   \n",
       "896  0.000186 -0.027604  0.010623  0.038237 -0.026675  0.020215 -0.040816   \n",
       "897  0.018066 -0.032152  0.039794  0.047608  0.003898  0.024092 -0.056508   \n",
       "898 -0.003492 -0.022739  0.021777  0.044054 -0.005621  0.013863 -0.079196   \n",
       "899  0.013689 -0.037855  0.039763  0.035750  0.004115  0.005637 -0.050556   \n",
       "\n",
       "      embed_7   embed_8   embed_9  ...  embed_758  embed_759  embed_760  \\\n",
       "0    0.044483  0.019400 -0.017189  ...  -0.045697  -0.001972  -0.008154   \n",
       "1    0.039153  0.019596 -0.027138  ...  -0.056834   0.008613  -0.006578   \n",
       "2    0.035118  0.035359 -0.029205  ...  -0.016249   0.020413  -0.034288   \n",
       "3    0.044878  0.034781 -0.025772  ...  -0.038879   0.002963  -0.018754   \n",
       "4    0.042820  0.029161 -0.015004  ...  -0.042079   0.010192  -0.010147   \n",
       "..        ...       ...       ...  ...        ...        ...        ...   \n",
       "895  0.029718  0.009203 -0.030913  ...  -0.040456  -0.001192  -0.026138   \n",
       "896  0.032210  0.041016 -0.014836  ...  -0.026985   0.015479  -0.003967   \n",
       "897  0.020527  0.031972 -0.026038  ...  -0.041547   0.011308  -0.016882   \n",
       "898  0.039150  0.004557 -0.015787  ...  -0.057920   0.004005  -0.007196   \n",
       "899  0.024668  0.025077 -0.029114  ...  -0.039500  -0.000129  -0.003880   \n",
       "\n",
       "     embed_761  embed_762  embed_763  embed_764  embed_765  embed_766  \\\n",
       "0    -0.056139   0.009890   0.042366   0.040134   0.009304  -0.016137   \n",
       "1    -0.034220   0.027574   0.045456   0.027402   0.017837  -0.035009   \n",
       "2    -0.050649   0.028408   0.040412   0.030261   0.003535  -0.034122   \n",
       "3    -0.053278   0.033005   0.031635   0.022544  -0.011774  -0.011125   \n",
       "4    -0.035857   0.021784   0.034621   0.017342  -0.009884  -0.010316   \n",
       "..         ...        ...        ...        ...        ...        ...   \n",
       "895  -0.056447   0.015818   0.045241   0.012620  -0.004837  -0.014540   \n",
       "896  -0.037808   0.021234   0.031012  -0.010890   0.003081  -0.015145   \n",
       "897  -0.059904   0.009558   0.039976   0.029574   0.013737  -0.003724   \n",
       "898  -0.041652   0.020945   0.047604   0.019767   0.005806  -0.019280   \n",
       "899  -0.048696   0.015711   0.039773   0.036328   0.010483  -0.021304   \n",
       "\n",
       "     embed_767  \n",
       "0    -0.009309  \n",
       "1    -0.010062  \n",
       "2    -0.017289  \n",
       "3    -0.017540  \n",
       "4    -0.029238  \n",
       "..         ...  \n",
       "895  -0.046791  \n",
       "896  -0.045444  \n",
       "897  -0.017324  \n",
       "898  -0.016415  \n",
       "899  -0.032017  \n",
       "\n",
       "[900 rows x 768 columns]"
      ]
     },
     "execution_count": 4,
     "metadata": {},
     "output_type": "execute_result"
    }
   ],
   "source": [
    "data = pd.read_excel(r'C:\\Amrita cse\\5th Semester\\Machine Learning\\Project\\embeddingsdata.xlsx')\n",
    "\n",
    "df = pd.DataFrame(data)\n",
    "\n",
    "df"
   ]
  },
  {
   "cell_type": "markdown",
   "metadata": {},
   "source": [
    "• Calculate the mean for each class (also called as class centroid):"
   ]
  },
  {
   "cell_type": "code",
   "execution_count": 5,
   "metadata": {},
   "outputs": [
    {
     "name": "stdout",
     "output_type": "stream",
     "text": [
      "Mean of each class: \n",
      "embed_0      0.008983\n",
      "embed_1     -0.025840\n",
      "embed_2      0.026057\n",
      "embed_3      0.044410\n",
      "embed_4      0.000759\n",
      "               ...   \n",
      "embed_763    0.037724\n",
      "embed_764    0.020917\n",
      "embed_765    0.012222\n",
      "embed_766   -0.018116\n",
      "embed_767   -0.020047\n",
      "Length: 768, dtype: float64\n"
     ]
    }
   ],
   "source": [
    "NumericColumns = df.select_dtypes(include=['number'])\n",
    "Mean = NumericColumns.mean(axis = 0)\n",
    "print(\"Mean of each class: \")\n",
    "print(Mean)"
   ]
  },
  {
   "cell_type": "markdown",
   "metadata": {},
   "source": [
    "• Calculate spread (standard deviation) for each class"
   ]
  },
  {
   "cell_type": "code",
   "execution_count": 6,
   "metadata": {},
   "outputs": [
    {
     "name": "stdout",
     "output_type": "stream",
     "text": [
      "Standard Deviation of each class: \n",
      "embed_0      0.013080\n",
      "embed_1      0.014345\n",
      "embed_2      0.012180\n",
      "embed_3      0.012642\n",
      "embed_4      0.012814\n",
      "               ...   \n",
      "embed_763    0.010076\n",
      "embed_764    0.010277\n",
      "embed_765    0.011059\n",
      "embed_766    0.011709\n",
      "embed_767    0.010896\n",
      "Length: 768, dtype: float64\n"
     ]
    }
   ],
   "source": [
    "StandardDeviation = NumericColumns.std()\n",
    "print(\"Standard Deviation of each class: \")\n",
    "print(StandardDeviation)"
   ]
  },
  {
   "cell_type": "markdown",
   "metadata": {},
   "source": [
    "•Calculate the distance between mean vectors between classes"
   ]
  },
  {
   "cell_type": "code",
   "execution_count": 6,
   "metadata": {},
   "outputs": [
    {
     "name": "stdout",
     "output_type": "stream",
     "text": [
      "-0.037839825529663355\n",
      "-0.03292605200497847\n",
      "The distance between mean vectors between classes:  -0.004913773524684882\n"
     ]
    }
   ],
   "source": [
    "SelectAttribute1 = data['embed_100']    #selecting a class with attribute name as embed_100\n",
    "SelectAttribute2 = data['embed_101']    #selecting a class with attribute name as embed_101\n",
    "\n",
    "Centroid1 = SelectAttribute1.mean()     #calculating the mean of the selected attribute\n",
    "Centroid2 = SelectAttribute2.mean()\n",
    "\n",
    "print(Centroid1)\n",
    "print(Centroid2)\n",
    "\n",
    "ReqDist = Centroid1 - Centroid2     #to calculate the mean distances by finding the difference between the 2 centroids\n",
    "print(\"The distance between mean vectors between classes: \",ReqDist)\n"
   ]
  },
  {
   "cell_type": "markdown",
   "metadata": {},
   "source": [
    "A2. Take any feature from your dataset. Observe the density pattern for that feature by plotting the histogram. Use buckets (data in ranges) for histogram generation and study. Calculate the mean and variance from the available data."
   ]
  },
  {
   "cell_type": "code",
   "execution_count": 6,
   "metadata": {},
   "outputs": [
    {
     "data": {
      "image/png": "[encoded data removed]",
      "text/plain": [
       "<Figure size 640x480 with 1 Axes>"
      ]
     },
     "metadata": {},
     "output_type": "display_data"
    },
    {
     "name": "stdout",
     "output_type": "stream",
     "text": [
      "The mean of embed_1:  -0.025840109987570435\n",
      "The variance of embed_1:  0.0002057731272218819\n"
     ]
    }
   ],
   "source": [
    "SelectedAttribute = data['embed_1']\n",
    "#plotting the histogram using matplot library\n",
    "plt.hist(SelectedAttribute,bins=20,color='blue',edgecolor='black')\n",
    "plt.xlabel('Attribute Values')\n",
    "plt.ylabel('Frequency')\n",
    "plt.title('Histogram on Embed_1')\n",
    "plt.show()\n",
    "#calculating the mean of embed_1\n",
    "meanEmbed = SelectedAttribute.mean()\n",
    "print(\"The mean of embed_1: \",meanEmbed)\n",
    "#calculating the variance of embed_1\n",
    "varianceEmbed = SelectedAttribute.var()\n",
    "print(\"The variance of embed_1: \",varianceEmbed)"
   ]
  },
  {
   "cell_type": "markdown",
   "metadata": {},
   "source": [
    "A3. Take any two feature vectors from your dataset. Calculate the Minkwoski distance with r from 1 to 10. Make a plot of the distance and observe the nature of this graph."
   ]
  },
  {
   "cell_type": "code",
   "execution_count": 7,
   "metadata": {},
   "outputs": [
    {
     "name": "stdout",
     "output_type": "stream",
     "text": [
      "Minkowski Distance for r = 1: 31.96499964603072\n",
      "Minkowski Distance for r = 2: 1.182127241672094\n",
      "Minkowski Distance for r = 3: 0.40941665963945145\n",
      "Minkowski Distance for r = 4: 0.24620977514382517\n",
      "Minkowski Distance for r = 5: 0.1840471219197787\n",
      "Minkowski Distance for r = 6: 0.15312586766036157\n",
      "Minkowski Distance for r = 7: 0.13529135492947555\n",
      "Minkowski Distance for r = 8: 0.12401759384110374\n",
      "Minkowski Distance for r = 9: 0.11644405268567906\n",
      "Minkowski Distance for r = 10: 0.11113566528516694\n"
     ]
    },
    {
     "data": {
      "image/png": "[encoded data removed]",
      "text/plain": [
       "<Figure size 800x500 with 1 Axes>"
      ]
     },
     "metadata": {},
     "output_type": "display_data"
    }
   ],
   "source": [
    "vector1 = data['embed_0'].to_numpy()\n",
    "vector2 = data['embed_1'].to_numpy()\n",
    "\n",
    "rValues = range(1,11)\n",
    "RequiredDistances = []\n",
    "\n",
    "for r in rValues:\n",
    "    dist = np.power(np.sum(np.abs(vector1 - vector2) ** r),1.0 / r)\n",
    "    print(\"Minkowski Distance for r = \" + str(r) + \": \" + str(dist))\n",
    "    RequiredDistances.append(dist)\n",
    "\n",
    "plt.figure(figsize=(8, 5))\n",
    "plt.plot(rValues, RequiredDistances, marker='o', linestyle='-', color='green')\n",
    "plt.xlabel('r')\n",
    "plt.ylabel('Minkowski Distance')\n",
    "plt.title('Minkowski Distance vs. r')\n",
    "plt.grid(True)\n",
    "plt.show()"
   ]
  },
  {
   "cell_type": "markdown",
   "metadata": {},
   "source": [
    "A4. Divide dataset in your project into two parts –train & test set. To accomplish this, use the train-test_split() function available in SciKit."
   ]
  },
  {
   "cell_type": "code",
   "execution_count": 18,
   "metadata": {},
   "outputs": [],
   "source": [
    "#initializing the data into an array using the numpy library\n",
    "data = np.array(data)\n",
    "# Assuming your dataset is stored in a variable called 'data'\n",
    "# Splitting the dataset into features (X) and labels (y)\n",
    "X = data[:, :-1]  # Assuming the last column is the target variable\n",
    "y = data[:, -1]   # Assuming the last column is the target variable\n",
    "\n",
    "# Splitting the dataset into train and test sets\n",
    "X_train, X_test, y_train, y_test = train_test_split(X, y, test_size=0.2, random_state=42)"
   ]
  },
  {
   "cell_type": "markdown",
   "metadata": {},
   "source": [
    "A5. Train a kNN classifier (k =3)using the training set obtained from above exercise."
   ]
  },
  {
   "cell_type": "code",
   "execution_count": 27,
   "metadata": {},
   "outputs": [
    {
     "data": {
      "text/html": [
       "<style>#sk-container-id-3 {color: black;}#sk-container-id-3 pre{padding: 0;}#sk-container-id-3 div.sk-toggleable {background-color: white;}#sk-container-id-3 label.sk-toggleable__label {cursor: pointer;display: block;width: 100%;margin-bottom: 0;padding: 0.3em;box-sizing: border-box;text-align: center;}#sk-container-id-3 label.sk-toggleable__label-arrow:before {content: \"▸\";float: left;margin-right: 0.25em;color: #696969;}#sk-container-id-3 label.sk-toggleable__label-arrow:hover:before {color: black;}#sk-container-id-3 div.sk-estimator:hover label.sk-toggleable__label-arrow:before {color: black;}#sk-container-id-3 div.sk-toggleable__content {max-height: 0;max-width: 0;overflow: hidden;text-align: left;background-color: #f0f8ff;}#sk-container-id-3 div.sk-toggleable__content pre {margin: 0.2em;color: black;border-radius: 0.25em;background-color: #f0f8ff;}#sk-container-id-3 input.sk-toggleable__control:checked~div.sk-toggleable__content {max-height: 200px;max-width: 100%;overflow: auto;}#sk-container-id-3 input.sk-toggleable__control:checked~label.sk-toggleable__label-arrow:before {content: \"▾\";}#sk-container-id-3 div.sk-estimator input.sk-toggleable__control:checked~label.sk-toggleable__label {background-color: #d4ebff;}#sk-container-id-3 div.sk-label input.sk-toggleable__control:checked~label.sk-toggleable__label {background-color: #d4ebff;}#sk-container-id-3 input.sk-hidden--visually {border: 0;clip: rect(1px 1px 1px 1px);clip: rect(1px, 1px, 1px, 1px);height: 1px;margin: -1px;overflow: hidden;padding: 0;position: absolute;width: 1px;}#sk-container-id-3 div.sk-estimator {font-family: monospace;background-color: #f0f8ff;border: 1px dotted black;border-radius: 0.25em;box-sizing: border-box;margin-bottom: 0.5em;}#sk-container-id-3 div.sk-estimator:hover {background-color: #d4ebff;}#sk-container-id-3 div.sk-parallel-item::after {content: \"\";width: 100%;border-bottom: 1px solid gray;flex-grow: 1;}#sk-container-id-3 div.sk-label:hover label.sk-toggleable__label {background-color: #d4ebff;}#sk-container-id-3 div.sk-serial::before {content: \"\";position: absolute;border-left: 1px solid gray;box-sizing: border-box;top: 0;bottom: 0;left: 50%;z-index: 0;}#sk-container-id-3 div.sk-serial {display: flex;flex-direction: column;align-items: center;background-color: white;padding-right: 0.2em;padding-left: 0.2em;position: relative;}#sk-container-id-3 div.sk-item {position: relative;z-index: 1;}#sk-container-id-3 div.sk-parallel {display: flex;align-items: stretch;justify-content: center;background-color: white;position: relative;}#sk-container-id-3 div.sk-item::before, #sk-container-id-3 div.sk-parallel-item::before {content: \"\";position: absolute;border-left: 1px solid gray;box-sizing: border-box;top: 0;bottom: 0;left: 50%;z-index: -1;}#sk-container-id-3 div.sk-parallel-item {display: flex;flex-direction: column;z-index: 1;position: relative;background-color: white;}#sk-container-id-3 div.sk-parallel-item:first-child::after {align-self: flex-end;width: 50%;}#sk-container-id-3 div.sk-parallel-item:last-child::after {align-self: flex-start;width: 50%;}#sk-container-id-3 div.sk-parallel-item:only-child::after {width: 0;}#sk-container-id-3 div.sk-dashed-wrapped {border: 1px dashed gray;margin: 0 0.4em 0.5em 0.4em;box-sizing: border-box;padding-bottom: 0.4em;background-color: white;}#sk-container-id-3 div.sk-label label {font-family: monospace;font-weight: bold;display: inline-block;line-height: 1.2em;}#sk-container-id-3 div.sk-label-container {text-align: center;}#sk-container-id-3 div.sk-container {/* jupyter's `normalize.less` sets `[hidden] { display: none; }` but bootstrap.min.css set `[hidden] { display: none !important; }` so we also need the `!important` here to be able to override the default hidden behavior on the sphinx rendered scikit-learn.org. See: https://github.com/scikit-learn/scikit-learn/issues/21755 */display: inline-block !important;position: relative;}#sk-container-id-3 div.sk-text-repr-fallback {display: none;}</style><div id=\"sk-container-id-3\" class=\"sk-top-container\"><div class=\"sk-text-repr-fallback\"><pre>KNeighborsRegressor(n_neighbors=3)</pre><b>In a Jupyter environment, please rerun this cell to show the HTML representation or trust the notebook. <br />On GitHub, the HTML representation is unable to render, please try loading this page with nbviewer.org.</b></div><div class=\"sk-container\" hidden><div class=\"sk-item\"><div class=\"sk-estimator sk-toggleable\"><input class=\"sk-toggleable__control sk-hidden--visually\" id=\"sk-estimator-id-3\" type=\"checkbox\" checked><label for=\"sk-estimator-id-3\" class=\"sk-toggleable__label sk-toggleable__label-arrow\">KNeighborsRegressor</label><div class=\"sk-toggleable__content\"><pre>KNeighborsRegressor(n_neighbors=3)</pre></div></div></div></div></div>"
      ],
      "text/plain": [
       "KNeighborsRegressor(n_neighbors=3)"
      ]
     },
     "execution_count": 27,
     "metadata": {},
     "output_type": "execute_result"
    }
   ],
   "source": [
    "knn = KNeighborsRegressor(n_neighbors=3)            #using regression here as the y_train values are continous and not discrete\n",
    "\n",
    "# Training the regressor\n",
    "knn.fit(X_train, y_train)               "
   ]
  },
  {
   "cell_type": "markdown",
   "metadata": {},
   "source": [
    "A6. Test the accuracy of the kNNusing the test set obtained from above exercise."
   ]
  },
  {
   "cell_type": "code",
   "execution_count": 33,
   "metadata": {},
   "outputs": [
    {
     "name": "stdout",
     "output_type": "stream",
     "text": [
      "Accuracy: 0.18034305026477426\n"
     ]
    }
   ],
   "source": [
    "## Calculate the accuracy of the kNN classifier on the test set\n",
    "accuracy = knn.score(X_test, y_test)    #score(): method to return the mean accuracy on the given dataset and labels. The accuracy value will be between 0 and 1, where 1 represents a perfect prediction.\n",
    "#                                        #score() method provided by scikit-learn\n",
    "# Print the accuracy\n",
    "print(\"Accuracy:\", accuracy)"
   ]
  },
  {
   "cell_type": "markdown",
   "metadata": {},
   "source": [
    "A7.Use the predict() function to study the prediction behavior of the classifier for test vectors."
   ]
  },
  {
   "cell_type": "code",
   "execution_count": 34,
   "metadata": {},
   "outputs": [
    {
     "name": "stdout",
     "output_type": "stream",
     "text": [
      "Predicted labels:\n",
      "[-0.02083319 -0.01769722 -0.02692434 -0.03273294 -0.02665348 -0.02630889\n",
      " -0.03127179 -0.01004201 -0.01080981 -0.01224249 -0.0180552  -0.01980415\n",
      " -0.02773031 -0.01622231 -0.03794583 -0.03502412 -0.02916248 -0.02391689\n",
      " -0.01400778 -0.01189011 -0.02686621 -0.01494365 -0.0201616  -0.02370403\n",
      " -0.03240223 -0.00565731 -0.01337921 -0.01231107 -0.0223709  -0.01454768\n",
      " -0.03387487 -0.02101326 -0.02234512 -0.02115226 -0.02212124 -0.02289729\n",
      " -0.01646327 -0.01178713 -0.04047462 -0.02996049 -0.00518574 -0.02922666\n",
      " -0.03476314 -0.02035023 -0.01136068 -0.0153668  -0.02318467 -0.02329467\n",
      " -0.01928571 -0.00999943 -0.02008612 -0.01350194 -0.02062439 -0.02391827\n",
      " -0.02446232 -0.01981818 -0.01663262 -0.0212317  -0.02320467 -0.01918939\n",
      " -0.00954874 -0.02054389 -0.02527598 -0.01221924 -0.02167488 -0.02876594\n",
      " -0.00886444 -0.02836932 -0.02984229 -0.00866932 -0.01885084 -0.00579298\n",
      " -0.01237001 -0.03361753 -0.0227156  -0.03169007 -0.01701491 -0.02199248\n",
      " -0.01597065 -0.01436569 -0.01864608 -0.01505829 -0.01624077 -0.01173173\n",
      " -0.0235668  -0.01088282 -0.02346256 -0.02380627 -0.0257658  -0.01453262\n",
      " -0.01267023 -0.01746248 -0.02306612 -0.013773   -0.01687999 -0.03263339\n",
      " -0.0135416  -0.0185021  -0.0129264  -0.01873224 -0.0151359  -0.01843206\n",
      " -0.03103559 -0.0318237  -0.0219124  -0.02466763 -0.01564206 -0.02454399\n",
      " -0.01301699 -0.03193134 -0.01513044 -0.02546488 -0.01280012 -0.02358413\n",
      " -0.02157627 -0.0248011  -0.01391989 -0.02526246 -0.02189207 -0.02744392\n",
      " -0.01856717 -0.032665   -0.02444321 -0.01416598 -0.02298612 -0.00942099\n",
      " -0.01981087 -0.01296527 -0.01296863 -0.02545284 -0.01558296 -0.02780673\n",
      " -0.02246169 -0.00510416 -0.0262047  -0.00519816 -0.0106855  -0.01687387\n",
      " -0.02891714 -0.02360236 -0.01705293 -0.01730287 -0.02227096 -0.02931431\n",
      " -0.02033581 -0.01307051 -0.01783556 -0.02459393 -0.02522026 -0.00433229\n",
      " -0.00230386 -0.01866112 -0.01853028 -0.03009776 -0.03574115 -0.00926068\n",
      " -0.0120271  -0.02380757 -0.01565101 -0.00863134 -0.01512612 -0.02049808\n",
      " -0.0177372  -0.01454258 -0.02660365 -0.02805673 -0.00953134 -0.02268295\n",
      " -0.01377056 -0.01100424 -0.02154938 -0.03565855 -0.01194446 -0.02777406\n",
      " -0.01503316 -0.0248442  -0.0134513  -0.01447075 -0.00845523 -0.02437255]\n"
     ]
    }
   ],
   "source": [
    "# Make predictions on the test vectors\n",
    "predictions = knn.predict(X_test)\n",
    "\n",
    "# Print the predicted class labels for the test vectors\n",
    "print(\"Predicted labels:\")      #predict() function of the kNN classifier to study the prediction behavior for test vectors. The predict() function takes the test vectors as input and returns the predicted class labels\n",
    "print(predictions)\n",
    "\n",
    "#output obtained from the code will be the predicted class labels for the test vectors. Each element in the output array corresponds to the predicted class label for the corresponding test vector.\n",
    "#The predicted class labels can provide insights into how the kNN classifier is categorizing or classifying the test vectors based on the patterns it learned during training. You can compare these predicted labels with the true labels (test_labels) to evaluate the accuracy or other performance metrics of the classifier.\n",
    "#Here train_data, test_data, train_labels, test_labels <=> X_train, X_test, y_train, y_test "
   ]
  },
  {
   "cell_type": "markdown",
   "metadata": {},
   "source": [
    "A8. Make k = 1 to implement NN classifier and compare the results with kNN (k = 3). Vary k from 1 to 11 and make an accuracy plot."
   ]
  },
  {
   "cell_type": "code",
   "execution_count": 35,
   "metadata": {},
   "outputs": [
    {
     "data": {
      "text/html": [
       "<style>#sk-container-id-4 {color: black;}#sk-container-id-4 pre{padding: 0;}#sk-container-id-4 div.sk-toggleable {background-color: white;}#sk-container-id-4 label.sk-toggleable__label {cursor: pointer;display: block;width: 100%;margin-bottom: 0;padding: 0.3em;box-sizing: border-box;text-align: center;}#sk-container-id-4 label.sk-toggleable__label-arrow:before {content: \"▸\";float: left;margin-right: 0.25em;color: #696969;}#sk-container-id-4 label.sk-toggleable__label-arrow:hover:before {color: black;}#sk-container-id-4 div.sk-estimator:hover label.sk-toggleable__label-arrow:before {color: black;}#sk-container-id-4 div.sk-toggleable__content {max-height: 0;max-width: 0;overflow: hidden;text-align: left;background-color: #f0f8ff;}#sk-container-id-4 div.sk-toggleable__content pre {margin: 0.2em;color: black;border-radius: 0.25em;background-color: #f0f8ff;}#sk-container-id-4 input.sk-toggleable__control:checked~div.sk-toggleable__content {max-height: 200px;max-width: 100%;overflow: auto;}#sk-container-id-4 input.sk-toggleable__control:checked~label.sk-toggleable__label-arrow:before {content: \"▾\";}#sk-container-id-4 div.sk-estimator input.sk-toggleable__control:checked~label.sk-toggleable__label {background-color: #d4ebff;}#sk-container-id-4 div.sk-label input.sk-toggleable__control:checked~label.sk-toggleable__label {background-color: #d4ebff;}#sk-container-id-4 input.sk-hidden--visually {border: 0;clip: rect(1px 1px 1px 1px);clip: rect(1px, 1px, 1px, 1px);height: 1px;margin: -1px;overflow: hidden;padding: 0;position: absolute;width: 1px;}#sk-container-id-4 div.sk-estimator {font-family: monospace;background-color: #f0f8ff;border: 1px dotted black;border-radius: 0.25em;box-sizing: border-box;margin-bottom: 0.5em;}#sk-container-id-4 div.sk-estimator:hover {background-color: #d4ebff;}#sk-container-id-4 div.sk-parallel-item::after {content: \"\";width: 100%;border-bottom: 1px solid gray;flex-grow: 1;}#sk-container-id-4 div.sk-label:hover label.sk-toggleable__label {background-color: #d4ebff;}#sk-container-id-4 div.sk-serial::before {content: \"\";position: absolute;border-left: 1px solid gray;box-sizing: border-box;top: 0;bottom: 0;left: 50%;z-index: 0;}#sk-container-id-4 div.sk-serial {display: flex;flex-direction: column;align-items: center;background-color: white;padding-right: 0.2em;padding-left: 0.2em;position: relative;}#sk-container-id-4 div.sk-item {position: relative;z-index: 1;}#sk-container-id-4 div.sk-parallel {display: flex;align-items: stretch;justify-content: center;background-color: white;position: relative;}#sk-container-id-4 div.sk-item::before, #sk-container-id-4 div.sk-parallel-item::before {content: \"\";position: absolute;border-left: 1px solid gray;box-sizing: border-box;top: 0;bottom: 0;left: 50%;z-index: -1;}#sk-container-id-4 div.sk-parallel-item {display: flex;flex-direction: column;z-index: 1;position: relative;background-color: white;}#sk-container-id-4 div.sk-parallel-item:first-child::after {align-self: flex-end;width: 50%;}#sk-container-id-4 div.sk-parallel-item:last-child::after {align-self: flex-start;width: 50%;}#sk-container-id-4 div.sk-parallel-item:only-child::after {width: 0;}#sk-container-id-4 div.sk-dashed-wrapped {border: 1px dashed gray;margin: 0 0.4em 0.5em 0.4em;box-sizing: border-box;padding-bottom: 0.4em;background-color: white;}#sk-container-id-4 div.sk-label label {font-family: monospace;font-weight: bold;display: inline-block;line-height: 1.2em;}#sk-container-id-4 div.sk-label-container {text-align: center;}#sk-container-id-4 div.sk-container {/* jupyter's `normalize.less` sets `[hidden] { display: none; }` but bootstrap.min.css set `[hidden] { display: none !important; }` so we also need the `!important` here to be able to override the default hidden behavior on the sphinx rendered scikit-learn.org. See: https://github.com/scikit-learn/scikit-learn/issues/21755 */display: inline-block !important;position: relative;}#sk-container-id-4 div.sk-text-repr-fallback {display: none;}</style><div id=\"sk-container-id-4\" class=\"sk-top-container\"><div class=\"sk-text-repr-fallback\"><pre>KNeighborsRegressor(n_neighbors=1)</pre><b>In a Jupyter environment, please rerun this cell to show the HTML representation or trust the notebook. <br />On GitHub, the HTML representation is unable to render, please try loading this page with nbviewer.org.</b></div><div class=\"sk-container\" hidden><div class=\"sk-item\"><div class=\"sk-estimator sk-toggleable\"><input class=\"sk-toggleable__control sk-hidden--visually\" id=\"sk-estimator-id-4\" type=\"checkbox\" checked><label for=\"sk-estimator-id-4\" class=\"sk-toggleable__label sk-toggleable__label-arrow\">KNeighborsRegressor</label><div class=\"sk-toggleable__content\"><pre>KNeighborsRegressor(n_neighbors=1)</pre></div></div></div></div></div>"
      ],
      "text/plain": [
       "KNeighborsRegressor(n_neighbors=1)"
      ]
     },
     "execution_count": 35,
     "metadata": {},
     "output_type": "execute_result"
    }
   ],
   "source": [
    "knn = KNeighborsRegressor(n_neighbors=1)            #using regression here as the y_train values are continous and not discrete\n",
    "\n",
    "# Training the regressor\n",
    "knn.fit(X_train, y_train)   "
   ]
  },
  {
   "cell_type": "markdown",
   "metadata": {},
   "source": [
    "A8. Make k = 1 to implement NN classifier and compare the results with kNN (k = 3). Vary k from 1 to 11 and make an accuracy plot."
   ]
  },
  {
   "cell_type": "code",
   "execution_count": 36,
   "metadata": {},
   "outputs": [
    {
     "name": "stdout",
     "output_type": "stream",
     "text": [
      "Results for NN (k=1):\n",
      "MSE: 0.00012229057624361229\n",
      "R-squared score: -0.22587216030433477\n",
      "\n",
      "Results for kNN (k=3):\n",
      "MSE: 8.176735221747565e-05\n",
      "R-squared score: 0.18034305026477426\n"
     ]
    }
   ],
   "source": [
    "#the comparisons of two KNN values is always made after the predicting the values for the given value of K. Mean square error and R-squared error is used to perform the comparisons\n",
    "# Mean Squared Error: Mean Squared Error (MSE) is a commonly used metric to evaluate the performance of regression models. It measures the average squared difference between the predicted values and the true values of the target variable.\n",
    "#R- Squared Error: \n",
    "\n",
    "# Train the NN classifier with k=1\n",
    "nn = KNeighborsRegressor(n_neighbors=1)\n",
    "nn.fit(X_train, y_train)\n",
    "\n",
    "# Train the kNN classifier with k=3\n",
    "knn = KNeighborsRegressor(n_neighbors=3)\n",
    "knn.fit(X_train, y_train)\n",
    "\n",
    "# Make predictions on the test set\n",
    "nn_predictions = nn.predict(X_test)\n",
    "knn_predictions = knn.predict(X_test)\n",
    "\n",
    "# Calculate the mean squared error (MSE)\n",
    "nn_mse = mean_squared_error(y_test, nn_predictions)\n",
    "knn_mse = mean_squared_error(y_test, knn_predictions)\n",
    "\n",
    "# Calculate the R-squared score\n",
    "nn_r2 = r2_score(y_test, nn_predictions)\n",
    "knn_r2 = r2_score(y_test, knn_predictions)\n",
    "\n",
    "# Print the results\n",
    "print(\"Results for NN (k=1):\")\n",
    "print(\"MSE:\", nn_mse)\n",
    "print(\"R-squared score:\", nn_r2)\n",
    "\n",
    "print(\"\\nResults for kNN (k=3):\")\n",
    "print(\"MSE:\", knn_mse)\n",
    "print(\"R-squared score:\", knn_r2)\n"
   ]
  },
  {
   "cell_type": "code",
   "execution_count": 48,
   "metadata": {},
   "outputs": [
    {
     "data": {
      "image/png": "[encoded data removed]",
      "text/plain": [
       "<Figure size 800x500 with 1 Axes>"
      ]
     },
     "metadata": {},
     "output_type": "display_data"
    }
   ],
   "source": [
    "predictions1 = []\n",
    "predictions2 = []\n",
    "\n",
    "\n",
    "for k in range(1,11):\n",
    "    knn = KNeighborsRegressor(n_neighbors=k)\n",
    "    knn.fit(X_train, y_train)       #fit() => to train the regressor\n",
    "    knn_predictions = knn.predict(X_test)   #predict() => to make predictions on the test set\n",
    "    knn_mse = mean_squared_error(y_test, knn_predictions)   #MSE used as the given dataset is continous and not discrete\n",
    "    knn_r2 = r2_score(y_test, knn_predictions)\n",
    "    predictions1.append(knn_mse)\n",
    "    predictions2.append(knn_r2)\n",
    "\n",
    "plt.figure(figsize=(8, 5))\n",
    "plt.plot(range(1,11), predictions1,marker='o', linestyle='-', color='red' ,label='MSE values')  #accuracy generated based on MSE values\n",
    "#plt.plot(range(1,11), predictions2,marker='o', linestyle='-', color='green')    #accuracy generated based on r2 values\n",
    "plt.xlabel('K-Values')\n",
    "plt.ylabel('MSE')\n",
    "plt.title('Accuracy plot')\n",
    "plt.grid(True)\n",
    "plt.show()"
   ]
  },
  {
   "cell_type": "markdown",
   "metadata": {},
   "source": [
    "A9. Please evaluate confusion matrix for your classification problem."
   ]
  },
  {
   "cell_type": "code",
   "execution_count": 53,
   "metadata": {},
   "outputs": [
    {
     "ename": "ValueError",
     "evalue": "continuous is not supported",
     "output_type": "error",
     "traceback": [
      "\u001b[1;31m---------------------------------------------------------------------------\u001b[0m",
      "\u001b[1;31mValueError\u001b[0m                                Traceback (most recent call last)",
      "\u001b[1;32mc:\\Users\\navin\\OneDrive\\Desktop\\VsCode\\Python\\Machine Learning\\Lab-03.ipynb Cell 29\u001b[0m line \u001b[0;36m1\n\u001b[1;32m----> <a href='vscode-notebook-cell:/c%3A/Users/navin/OneDrive/Desktop/VsCode/Python/Machine%20Learning/Lab-03.ipynb#X41sZmlsZQ%3D%3D?line=0'>1</a>\u001b[0m cn \u001b[39m=\u001b[39m confusion_matrix(y_true,knn_predictions)\n\u001b[0;32m      <a href='vscode-notebook-cell:/c%3A/Users/navin/OneDrive/Desktop/VsCode/Python/Machine%20Learning/Lab-03.ipynb#X41sZmlsZQ%3D%3D?line=1'>2</a>\u001b[0m \u001b[39mprint\u001b[39m(cn)\n",
      "File \u001b[1;32mc:\\Python\\Python310\\lib\\site-packages\\sklearn\\utils\\_param_validation.py:211\u001b[0m, in \u001b[0;36mvalidate_params.<locals>.decorator.<locals>.wrapper\u001b[1;34m(*args, **kwargs)\u001b[0m\n\u001b[0;32m    205\u001b[0m \u001b[39mtry\u001b[39;00m:\n\u001b[0;32m    206\u001b[0m     \u001b[39mwith\u001b[39;00m config_context(\n\u001b[0;32m    207\u001b[0m         skip_parameter_validation\u001b[39m=\u001b[39m(\n\u001b[0;32m    208\u001b[0m             prefer_skip_nested_validation \u001b[39mor\u001b[39;00m global_skip_validation\n\u001b[0;32m    209\u001b[0m         )\n\u001b[0;32m    210\u001b[0m     ):\n\u001b[1;32m--> 211\u001b[0m         \u001b[39mreturn\u001b[39;00m func(\u001b[39m*\u001b[39margs, \u001b[39m*\u001b[39m\u001b[39m*\u001b[39mkwargs)\n\u001b[0;32m    212\u001b[0m \u001b[39mexcept\u001b[39;00m InvalidParameterError \u001b[39mas\u001b[39;00m e:\n\u001b[0;32m    213\u001b[0m     \u001b[39m# When the function is just a wrapper around an estimator, we allow\u001b[39;00m\n\u001b[0;32m    214\u001b[0m     \u001b[39m# the function to delegate validation to the estimator, but we replace\u001b[39;00m\n\u001b[0;32m    215\u001b[0m     \u001b[39m# the name of the estimator by the name of the function in the error\u001b[39;00m\n\u001b[0;32m    216\u001b[0m     \u001b[39m# message to avoid confusion.\u001b[39;00m\n\u001b[0;32m    217\u001b[0m     msg \u001b[39m=\u001b[39m re\u001b[39m.\u001b[39msub(\n\u001b[0;32m    218\u001b[0m         \u001b[39mr\u001b[39m\u001b[39m\"\u001b[39m\u001b[39mparameter of \u001b[39m\u001b[39m\\\u001b[39m\u001b[39mw+ must be\u001b[39m\u001b[39m\"\u001b[39m,\n\u001b[0;32m    219\u001b[0m         \u001b[39mf\u001b[39m\u001b[39m\"\u001b[39m\u001b[39mparameter of \u001b[39m\u001b[39m{\u001b[39;00mfunc\u001b[39m.\u001b[39m\u001b[39m__qualname__\u001b[39m\u001b[39m}\u001b[39;00m\u001b[39m must be\u001b[39m\u001b[39m\"\u001b[39m,\n\u001b[0;32m    220\u001b[0m         \u001b[39mstr\u001b[39m(e),\n\u001b[0;32m    221\u001b[0m     )\n",
      "File \u001b[1;32mc:\\Python\\Python310\\lib\\site-packages\\sklearn\\metrics\\_classification.py:326\u001b[0m, in \u001b[0;36mconfusion_matrix\u001b[1;34m(y_true, y_pred, labels, sample_weight, normalize)\u001b[0m\n\u001b[0;32m    231\u001b[0m \u001b[39m@validate_params\u001b[39m(\n\u001b[0;32m    232\u001b[0m     {\n\u001b[0;32m    233\u001b[0m         \u001b[39m\"\u001b[39m\u001b[39my_true\u001b[39m\u001b[39m\"\u001b[39m: [\u001b[39m\"\u001b[39m\u001b[39marray-like\u001b[39m\u001b[39m\"\u001b[39m],\n\u001b[1;32m   (...)\u001b[0m\n\u001b[0;32m    242\u001b[0m     y_true, y_pred, \u001b[39m*\u001b[39m, labels\u001b[39m=\u001b[39m\u001b[39mNone\u001b[39;00m, sample_weight\u001b[39m=\u001b[39m\u001b[39mNone\u001b[39;00m, normalize\u001b[39m=\u001b[39m\u001b[39mNone\u001b[39;00m\n\u001b[0;32m    243\u001b[0m ):\n\u001b[0;32m    244\u001b[0m \u001b[39m    \u001b[39m\u001b[39m\"\"\"Compute confusion matrix to evaluate the accuracy of a classification.\u001b[39;00m\n\u001b[0;32m    245\u001b[0m \n\u001b[0;32m    246\u001b[0m \u001b[39m    By definition a confusion matrix :math:`C` is such that :math:`C_{i, j}`\u001b[39;00m\n\u001b[1;32m   (...)\u001b[0m\n\u001b[0;32m    324\u001b[0m \u001b[39m    (0, 2, 1, 1)\u001b[39;00m\n\u001b[0;32m    325\u001b[0m \u001b[39m    \"\"\"\u001b[39;00m\n\u001b[1;32m--> 326\u001b[0m     y_type, y_true, y_pred \u001b[39m=\u001b[39m _check_targets(y_true, y_pred)\n\u001b[0;32m    327\u001b[0m     \u001b[39mif\u001b[39;00m y_type \u001b[39mnot\u001b[39;00m \u001b[39min\u001b[39;00m (\u001b[39m\"\u001b[39m\u001b[39mbinary\u001b[39m\u001b[39m\"\u001b[39m, \u001b[39m\"\u001b[39m\u001b[39mmulticlass\u001b[39m\u001b[39m\"\u001b[39m):\n\u001b[0;32m    328\u001b[0m         \u001b[39mraise\u001b[39;00m \u001b[39mValueError\u001b[39;00m(\u001b[39m\"\u001b[39m\u001b[39m%s\u001b[39;00m\u001b[39m is not supported\u001b[39m\u001b[39m\"\u001b[39m \u001b[39m%\u001b[39m y_type)\n",
      "File \u001b[1;32mc:\\Python\\Python310\\lib\\site-packages\\sklearn\\metrics\\_classification.py:104\u001b[0m, in \u001b[0;36m_check_targets\u001b[1;34m(y_true, y_pred)\u001b[0m\n\u001b[0;32m    102\u001b[0m \u001b[39m# No metrics support \"multiclass-multioutput\" format\u001b[39;00m\n\u001b[0;32m    103\u001b[0m \u001b[39mif\u001b[39;00m y_type \u001b[39mnot\u001b[39;00m \u001b[39min\u001b[39;00m [\u001b[39m\"\u001b[39m\u001b[39mbinary\u001b[39m\u001b[39m\"\u001b[39m, \u001b[39m\"\u001b[39m\u001b[39mmulticlass\u001b[39m\u001b[39m\"\u001b[39m, \u001b[39m\"\u001b[39m\u001b[39mmultilabel-indicator\u001b[39m\u001b[39m\"\u001b[39m]:\n\u001b[1;32m--> 104\u001b[0m     \u001b[39mraise\u001b[39;00m \u001b[39mValueError\u001b[39;00m(\u001b[39m\"\u001b[39m\u001b[39m{0}\u001b[39;00m\u001b[39m is not supported\u001b[39m\u001b[39m\"\u001b[39m\u001b[39m.\u001b[39mformat(y_type))\n\u001b[0;32m    106\u001b[0m \u001b[39mif\u001b[39;00m y_type \u001b[39min\u001b[39;00m [\u001b[39m\"\u001b[39m\u001b[39mbinary\u001b[39m\u001b[39m\"\u001b[39m, \u001b[39m\"\u001b[39m\u001b[39mmulticlass\u001b[39m\u001b[39m\"\u001b[39m]:\n\u001b[0;32m    107\u001b[0m     y_true \u001b[39m=\u001b[39m column_or_1d(y_true)\n",
      "\u001b[1;31mValueError\u001b[0m: continuous is not supported"
     ]
    }
   ],
   "source": [
    "cn = confusion_matrix(y_true,knn_predictions)\n",
    "print(cn)"
   ]
  },
  {
   "cell_type": "code",
   "execution_count": null,
   "metadata": {},
   "outputs": [],
   "source": []
  }
 ],
 "metadata": {
  "kernelspec": {
   "display_name": "Python 3",
   "language": "python",
   "name": "python3"
  },
  "language_info": {
   "codemirror_mode": {
    "name": "ipython",
    "version": 3
   },
   "file_extension": ".py",
   "mimetype": "text/x-python",
   "name": "python",
   "nbconvert_exporter": "python",
   "pygments_lexer": "ipython3",
   "version": "3.10.5"
  },
  "orig_nbformat": 4
 },
 "nbformat": 4,
 "nbformat_minor": 2
}
