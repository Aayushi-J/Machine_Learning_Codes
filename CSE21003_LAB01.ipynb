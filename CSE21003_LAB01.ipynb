{
 "cells": [
  {
   "cell_type": "markdown",
   "id": "36118ff1",
   "metadata": {},
   "source": [
    "# LAB ASSIGNMENT - 01"
   ]
  },
  {
   "cell_type": "markdown",
   "id": "b48f8273",
   "metadata": {},
   "source": [
    "A1. Segregation of the matrix into A and C"
   ]
  },
  {
   "cell_type": "code",
   "execution_count": 34,
   "id": "a3ee51b6",
   "metadata": {},
   "outputs": [],
   "source": [
    "import pandas as pd\n",
    "import numpy as np\n",
    "from numpy import linalg as la\n",
    "import statistics\n",
    "import matplotlib.pyplot as plt"
   ]
  },
  {
   "cell_type": "code",
   "execution_count": 4,
   "id": "2e9cbe4c",
   "metadata": {},
   "outputs": [
    {
     "name": "stdout",
     "output_type": "stream",
     "text": [
      "[[20  6  2]\n",
      " [16  3  6]\n",
      " [27  6  2]\n",
      " [19  1  2]\n",
      " [24  4  2]\n",
      " [22  1  5]\n",
      " [15  4  2]\n",
      " [18  4  2]\n",
      " [21  1  4]\n",
      " [16  2  4]] \n",
      "\n",
      "[386 289 393 110 280 167 271 274 148 198]\n"
     ]
    }
   ],
   "source": [
    "data=pd.read_excel(r'D:\\Aayushi J\\University\\B.Tech\\Semester 05\\Machine Learning\\ML Lab\\Lab 01\\Lab Session1 Data.xlsx',sheet_name='Purchase data')\n",
    "B=data.iloc[:,1:4]          #Fetching the values whatever is required\n",
    "X=data.iloc[:,4]\n",
    "C=X.values                  #Converting the fetched values into matrix directly\n",
    "A=B.values\n",
    "print(A,\"\\n\")\n",
    "print(C)"
   ]
  },
  {
   "cell_type": "markdown",
   "id": "3bf83e94",
   "metadata": {},
   "source": [
    "A1.1 Dimensionality of the Matrix formed"
   ]
  },
  {
   "cell_type": "code",
   "execution_count": 5,
   "id": "e62b918b",
   "metadata": {},
   "outputs": [
    {
     "name": "stdout",
     "output_type": "stream",
     "text": [
      "(10, 22) \t 2\n"
     ]
    }
   ],
   "source": [
    "print(data.shape,\"\\t\",data.ndim)   #ndim:(row,column=2 dimension) \n",
    "                                   #shape:(num rows, num column)"
   ]
  },
  {
   "cell_type": "markdown",
   "id": "4bb5f939",
   "metadata": {},
   "source": [
    "A1.2 Number of vectors in the vector space"
   ]
  },
  {
   "cell_type": "code",
   "execution_count": 6,
   "id": "ae71a64d",
   "metadata": {},
   "outputs": [
    {
     "name": "stdout",
     "output_type": "stream",
     "text": [
      "10\n"
     ]
    }
   ],
   "source": [
    "print(len(data))                  #len():"
   ]
  },
  {
   "cell_type": "markdown",
   "id": "fff749fb",
   "metadata": {},
   "source": [
    "A1.3 Rank of a Matrix"
   ]
  },
  {
   "cell_type": "code",
   "execution_count": 7,
   "id": "6fc6dea3",
   "metadata": {},
   "outputs": [
    {
     "name": "stdout",
     "output_type": "stream",
     "text": [
      "Rank of Matrix:  3\n"
     ]
    }
   ],
   "source": [
    "print(\"Rank of Matrix: \",la.matrix_rank(A))"
   ]
  },
  {
   "cell_type": "markdown",
   "id": "c7a28daf",
   "metadata": {},
   "source": [
    "A1.4 Using Pseudo-Inverse find the cost of each product available for sale.\n",
    "\n",
    "A2. Use the Pseudo-inverse to calculate the model vector X for predicting the cost of the products \n",
    "available with the vendor"
   ]
  },
  {
   "cell_type": "code",
   "execution_count": 8,
   "id": "8fe73214",
   "metadata": {},
   "outputs": [
    {
     "name": "stdout",
     "output_type": "stream",
     "text": [
      "[ 1. 55. 18.]\n"
     ]
    }
   ],
   "source": [
    "inverse=la.pinv(A)\n",
    "X=np.dot(inverse,C)\n",
    "print(X)"
   ]
  },
  {
   "cell_type": "markdown",
   "id": "a7b9ab58",
   "metadata": {},
   "source": [
    "A3.Mark all customers (in “Purchase Data” table) with payments above Rs. 200 as RICH and others as POOR. Develop a classifier model to categorize customers into RICH or POOR class based on purchase behavior. "
   ]
  },
  {
   "cell_type": "code",
   "execution_count": 9,
   "id": "10757108",
   "metadata": {},
   "outputs": [
    {
     "name": "stdout",
     "output_type": "stream",
     "text": [
      "  Customer  Candies (#)  Mangoes (Kg)  Milk Packets (#)  Payment (Rs) Class\n",
      "0      C_1           20             6                 2           386     R\n",
      "1      C_2           16             3                 6           289     R\n",
      "2      C_3           27             6                 2           393     R\n",
      "3      C_4           19             1                 2           110     P\n",
      "4      C_5           24             4                 2           280     R\n",
      "5      C_6           22             1                 5           167     P\n",
      "6      C_7           15             4                 2           271     R\n",
      "7      C_8           18             4                 2           274     R\n",
      "8      C_9           21             1                 4           148     P\n",
      "9     C_10           16             2                 4           198     P\n"
     ]
    }
   ],
   "source": [
    "data['Class'] = np.where(data['Payment (Rs)'] > 200,'R','P')\n",
    "df_cleaned = data.dropna(axis=1, how='any')\n",
    "print(df_cleaned)"
   ]
  },
  {
   "cell_type": "markdown",
   "id": "34548423",
   "metadata": {},
   "source": [
    "A4.Please refer to the data present in “IRCTC Stock Price” data sheet of the above excel file. Do the following after loading the data to your programming platform.\n",
    "\n",
    "A4.1 Calculate the mean and variance of the Price data present in column D."
   ]
  },
  {
   "cell_type": "code",
   "execution_count": 16,
   "id": "10af429e",
   "metadata": {},
   "outputs": [
    {
     "name": "stdout",
     "output_type": "stream",
     "text": [
      "Mean of the Prices is:  1560.663453815261\n"
     ]
    }
   ],
   "source": [
    "data=pd.read_excel(r'D:\\Aayushi J\\University\\B.Tech\\Semester 05\\Machine Learning\\ML Lab\\Lab 01\\Lab Session1 Data.xlsx',sheet_name='IRCTC Stock Price')\n",
    "mean=statistics.mean(data['Price'])\n",
    "print(\"Mean of the Prices is: \",mean)"
   ]
  },
  {
   "cell_type": "code",
   "execution_count": 18,
   "id": "69915719",
   "metadata": {},
   "outputs": [
    {
     "name": "stdout",
     "output_type": "stream",
     "text": [
      "Variance of the Prices is:  58732.365352539186\n"
     ]
    }
   ],
   "source": [
    "var=statistics.variance(data['Price'])\n",
    "print(\"Variance of the Prices is: \",var)"
   ]
  },
  {
   "cell_type": "markdown",
   "id": "30dcc1a8",
   "metadata": {},
   "source": [
    "A4.2 Select the price data for all Wednesdays and calculate the sample mean. Compare the mean with the population mean and note your observations."
   ]
  },
  {
   "cell_type": "code",
   "execution_count": 20,
   "id": "55c0b22f",
   "metadata": {},
   "outputs": [
    {
     "name": "stdout",
     "output_type": "stream",
     "text": [
      "Price of Wednesday 1550.706\n"
     ]
    }
   ],
   "source": [
    "pr_m=statistics.mean(data['Price'].loc[data['Day']==\"Wed\"])\n",
    "print(\"Price of Wednesday\", pr_m)"
   ]
  },
  {
   "cell_type": "markdown",
   "id": "fded0127",
   "metadata": {},
   "source": [
    "A4.3 Select the price data for the month of Apr and calculate the sample mean. Compare the \n",
    "mean with the population mean and note your observations"
   ]
  },
  {
   "cell_type": "code",
   "execution_count": 21,
   "id": "89ae735b",
   "metadata": {},
   "outputs": [
    {
     "name": "stdout",
     "output_type": "stream",
     "text": [
      "Price of April:  1698.9526315789474\n"
     ]
    }
   ],
   "source": [
    "a_m= statistics.mean(data['Price'].loc[data['Month']=='Apr'])\n",
    "print(\"Price of April: \",a_m)"
   ]
  },
  {
   "cell_type": "markdown",
   "id": "b0ac0374",
   "metadata": {},
   "source": [
    "A4.4 From the Chg% (available in column I) find the probability of making a loss over the stock. \n",
    "(Suggestion: use lambda function to find negative values)"
   ]
  },
  {
   "cell_type": "code",
   "execution_count": 22,
   "id": "32e788f4",
   "metadata": {},
   "outputs": [
    {
     "name": "stdout",
     "output_type": "stream",
     "text": [
      "Probability of loss: 0.4979919678714859\n"
     ]
    }
   ],
   "source": [
    "chg = data['Chg%']\n",
    "neg = chg[lambda x: x < 0]\n",
    "\n",
    "probability_of_loss = len(neg) / len(chg)\n",
    "\n",
    "print(\"Probability of loss:\", probability_of_loss)\n"
   ]
  },
  {
   "cell_type": "markdown",
   "id": "61209966",
   "metadata": {},
   "source": [
    "A4.5 Calculate the probability of making a profit on Wednesday."
   ]
  },
  {
   "cell_type": "code",
   "execution_count": 29,
   "id": "57ffd945",
   "metadata": {},
   "outputs": [
    {
     "name": "stdout",
     "output_type": "stream",
     "text": [
      "Probability of Profit on Wednesday:  0.08433734939759036\n"
     ]
    }
   ],
   "source": [
    "t=data['Chg%'].count()\n",
    "w=data['Chg%'].loc[data['Day']=='Wed'].count()\n",
    "p = data['Chg%'].loc[(data['Day'] == 'Wed') & (data['Chg%'] >0)]\n",
    "p=p.count()\n",
    "print(\"Probability of Profit on Wednesday: \",p/t)"
   ]
  },
  {
   "cell_type": "markdown",
   "id": "ea6e1df2",
   "metadata": {},
   "source": [
    "A4.6 Calculate the conditional probability of making profit, given that today is Wednesday."
   ]
  },
  {
   "cell_type": "code",
   "execution_count": 30,
   "id": "3354c8a3",
   "metadata": {},
   "outputs": [
    {
     "name": "stdout",
     "output_type": "stream",
     "text": [
      "Today's Profit:  0.42\n"
     ]
    }
   ],
   "source": [
    "print(\"Today's Profit: \",p/w)"
   ]
  },
  {
   "cell_type": "markdown",
   "id": "1e9f3d9d",
   "metadata": {},
   "source": [
    "A4.7 Make a scatter plot of Chg% data against the day of the week."
   ]
  },
  {
   "cell_type": "code",
   "execution_count": 35,
   "id": "762d569c",
   "metadata": {},
   "outputs": [
    {
     "data": {
      "text/plain": [
       "Text(0.5, 1.0, 'Days vs Chg%')"
      ]
     },
     "execution_count": 35,
     "metadata": {},
     "output_type": "execute_result"
    },
    {
     "data": {
      "image/png": "[encoded data removed]",
      "text/plain": [
       "<Figure size 1100x700 with 1 Axes>"
      ]
     },
     "metadata": {},
     "output_type": "display_data"
    }
   ],
   "source": [
    "fig, ax = plt.subplots(figsize=(11, 7))\n",
    "ax.scatter(x = data['Chg%'], y = data['Day'])\n",
    "plt.xlabel(\"Chg %\")\n",
    "plt.ylabel(\"Day\")\n",
    "plt.title(\"Days vs Chg%\")"
   ]
  }
 ],
 "metadata": {
  "kernelspec": {
   "display_name": "Python 3 (ipykernel)",
   "language": "python",
   "name": "python3"
  },
  "language_info": {
   "codemirror_mode": {
    "name": "ipython",
    "version": 3
   },
   "file_extension": ".py",
   "mimetype": "text/x-python",
   "name": "python",
   "nbconvert_exporter": "python",
   "pygments_lexer": "ipython3",
   "version": "3.11.3"
  }
 },
 "nbformat": 4,
 "nbformat_minor": 5
}
