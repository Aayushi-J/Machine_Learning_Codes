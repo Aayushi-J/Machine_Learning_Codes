{
  "cells": [
    {
      "cell_type": "markdown",
      "metadata": {
        "id": "kDxis9gvDpv2"
      },
      "source": [
        "#Aayushi Jeeban Tripathy, BL.EN.U4CSE21003\n",
        "\n"
      ]
    },
    {
      "cell_type": "markdown",
      "metadata": {
        "id": "vwPwo5mHDpwD"
      },
      "source": [
        "A1. For the data provided below, calculate the prior probability for each class."
      ]
    },
    {
      "cell_type": "code",
      "execution_count": 1,
      "metadata": {
        "id": "1Ch0eirBDpwE"
      },
      "outputs": [],
      "source": [
        "import pandas as pd\n",
        "from collections import defaultdict\n",
        "from scipy.stats import chi2_contingency\n",
        "from itertools import product\n",
        "from sklearn.model_selection import train_test_split\n",
        "from sklearn.naive_bayes import GaussianNB\n",
        "from sklearn.preprocessing import LabelEncoder\n",
        "import numpy as np\n",
        "import pandas as pd\n"
      ]
    },
    {
      "cell_type": "code",
      "execution_count": 2,
      "metadata": {
        "colab": {
          "base_uri": "https://localhost:8080/"
        },
        "id": "RXTtpJ2yDpwE",
        "outputId": "70276427-9fef-4352-cdd7-e7ad8b46c50e"
      },
      "outputs": [
        {
          "output_type": "stream",
          "name": "stdout",
          "text": [
            "Prior Probabilities:\n",
            "P(no) = 0.4286\n",
            "P(yes) = 0.5714\n"
          ]
        }
      ],
      "source": [
        "dataset = [\n",
        "    {'age': '<=30', 'income': 'high', 'student': 'no', 'credit_rating': 'fair', 'buys_computer': 'no'},\n",
        "    {'age': '<=30', 'income': 'high', 'student': 'no', 'credit_rating': 'excellent', 'buys_computer': 'no'},\n",
        "    {'age': '31..40', 'income': 'high', 'student': 'no', 'credit_rating': 'fair', 'buys_computer': 'yes'},\n",
        "    {'age': '>40', 'income': 'medium', 'student': 'no', 'credit_rating': 'fair', 'buys_computer': 'yes'},\n",
        "    {'age': '>40', 'income': 'low', 'student': 'yes', 'credit_rating': 'fair', 'buys_computer': 'yes'},\n",
        "    {'age': '>40', 'income': 'low', 'student': 'yes', 'credit_rating': 'excellent', 'buys_computer': 'no'},\n",
        "    {'age': '31..40', 'income': 'low', 'student': 'yes', 'credit_rating': 'excellent', 'buys_computer': 'yes'},\n",
        "    {'age': '<=30', 'income': 'medium', 'student': 'no', 'credit_rating': 'fair', 'buys_computer': 'no'},\n",
        "    {'age': '<=30', 'income': 'low', 'student': 'yes', 'credit_rating': 'fair', 'buys_computer': 'yes'},\n",
        "    {'age': '>40', 'income': 'medium', 'student': 'yes', 'credit_rating': 'fair', 'buys_computer': 'yes'},\n",
        "    {'age': '<=30', 'income': 'medium', 'student': 'yes', 'credit_rating': 'excellent', 'buys_computer': 'yes'},\n",
        "    {'age': '31..40', 'income': 'high', 'student': 'no', 'credit_rating': 'excellent', 'buys_computer': 'yes'},\n",
        "    {'age': '31..40', 'income': 'medium', 'student': 'yes', 'credit_rating': 'fair', 'buys_computer': 'no'},\n",
        "    {'age': '>40', 'income': 'high', 'student': 'no', 'credit_rating': 'excellent', 'buys_computer': 'no'}\n",
        "]\n",
        "\n",
        "totalInstances = len(dataset)\n",
        "classes = set(entry['buys_computer'] for entry in dataset)\n",
        "priorProbabilities = {}\n",
        "for class_label in classes:\n",
        "    class_count = sum(1 for entry in dataset if entry['buys_computer'] == class_label)\n",
        "    priorProbabilities[class_label] = class_count / totalInstances\n",
        "print(\"Prior Probabilities:\")\n",
        "for class_label, prior_probability in priorProbabilities.items():\n",
        "    print(f\"P({class_label}) = {prior_probability:.4f}\")"
      ]
    },
    {
      "cell_type": "markdown",
      "metadata": {
        "id": "YxF3Eqd_DpwJ"
      },
      "source": [
        "A2.Calculate the class conditional densities for various features & classes. Observe if any class conditional density has zero values."
      ]
    },
    {
      "cell_type": "code",
      "execution_count": 3,
      "metadata": {
        "colab": {
          "base_uri": "https://localhost:8080/"
        },
        "id": "lz8rQWtjDpwK",
        "outputId": "5fc66dfb-3c42-4887-f249-3d40374efab1"
      },
      "outputs": [
        {
          "output_type": "stream",
          "name": "stdout",
          "text": [
            "Class Conditional Densities:\n",
            "For class no:\n",
            "P(age | no) = 14.0000\n",
            "P(income | no) = 14.0000\n",
            "P(student | no) = 14.0000\n",
            "P(credit_rating | no) = 14.0000\n",
            "For class yes:\n",
            "P(age | yes) = 14.0000\n",
            "P(income | yes) = 14.0000\n",
            "P(student | yes) = 14.0000\n",
            "P(credit_rating | yes) = 14.0000\n",
            "\n",
            "No features have zero class conditional densities.\n"
          ]
        }
      ],
      "source": [
        "class_conditional_densities = defaultdict(dict)\n",
        "for feature in dataset[0].keys():\n",
        "    if feature != 'buys_computer':\n",
        "        for class_label in classes:\n",
        "            feature_class_instances = [entry for entry in dataset if entry['buys_computer'] == class_label and entry[feature] == entry[feature]]\n",
        "            density = len(feature_class_instances) / priorProbabilities[class_label]\n",
        "            class_conditional_densities[class_label][feature] = density\n",
        "print(\"Class Conditional Densities:\")\n",
        "for class_label, densities in class_conditional_densities.items():\n",
        "    print(f\"For class {class_label}:\")\n",
        "    for feature, density in densities.items():\n",
        "        print(f\"P({feature} | {class_label}) = {density:.4f}\")\n",
        "zero_density_features = [(class_label, feature) for class_label, densities in class_conditional_densities.items() for feature, density in densities.items() if density == 0]\n",
        "if zero_density_features:\n",
        "    print(\"\\nFeatures with zero class conditional densities:\")\n",
        "    for class_label, feature in zero_density_features:\n",
        "        print(f\"For class {class_label}, feature {feature} has zero density.\")\n",
        "else:\n",
        "    print(\"\\nNo features have zero class conditional densities.\")"
      ]
    },
    {
      "cell_type": "markdown",
      "metadata": {
        "id": "1tofinxHDpwM"
      },
      "source": [
        "A3. Test for independence between the 4 given features."
      ]
    },
    {
      "cell_type": "code",
      "execution_count": 7,
      "metadata": {
        "colab": {
          "base_uri": "https://localhost:8080/"
        },
        "id": "Fb0sXMn7DpwM",
        "outputId": "82919bb4-a124-4b94-b3a0-c96ce176a313"
      },
      "outputs": [
        {
          "output_type": "stream",
          "name": "stdout",
          "text": [
            "Chi-squared value: 0.0\n",
            "P-value: 1.0\n",
            "\n",
            "Test Result:\n",
            "Fail to reject the null hypothesis. Features are independent.\n"
          ]
        }
      ],
      "source": [
        "features = [entry['age'] for entry in dataset]\n",
        "income = [entry['income'] for entry in dataset]\n",
        "student = [entry['student'] for entry in dataset]\n",
        "credit_rating = [entry['credit_rating'] for entry in dataset]\n",
        "buys_computer = [entry['buys_computer'] for entry in dataset]\n",
        "unique_values = {\n",
        "    'age': set(features),\n",
        "    'income': set(income),\n",
        "    'student': set(student),\n",
        "    'credit_rating': set(credit_rating),\n",
        "    'buys_computer': set(buys_computer)\n",
        "}\n",
        "combinations = list(product(unique_values['age'], unique_values['income'], unique_values['student'], unique_values['credit_rating'], unique_values['buys_computer']))\n",
        "contingency_table = []\n",
        "epsilon = 1e-10\n",
        "for age, inc, stud, credit, buys in combinations:\n",
        "    count = sum(1 for i in range(totalInstances) if features[i] == age and buys_computer[i] == buys and income[i] == inc and student[i] == stud and credit_rating[i] == credit)\n",
        "    contingency_table.append([count + epsilon])\n",
        "chi2, p, _, _ = chi2_contingency(contingency_table)\n",
        "print(f\"Chi-squared value: {chi2}\")\n",
        "print(f\"P-value: {p}\")\n",
        "alpha = 0.05\n",
        "print(\"\\nTest Result:\")\n",
        "if p < alpha:\n",
        "    print(\"Reject the null hypothesis. Features are not independent.\")\n",
        "else:\n",
        "    print(\"Fail to reject the null hypothesis. Features are independent.\")"
      ]
    },
    {
      "cell_type": "markdown",
      "metadata": {
        "id": "qdvqUcfZDpwO"
      },
      "source": [
        "A4. Build a Naïve-Bayes (NB) classifier for the above given data."
      ]
    },
    {
      "cell_type": "code",
      "execution_count": 5,
      "metadata": {
        "colab": {
          "base_uri": "https://localhost:8080/"
        },
        "id": "S_tm_3vdDpwP",
        "outputId": "eaa016f4-37b0-4cc9-a3c7-46009943c8df"
      },
      "outputs": [
        {
          "output_type": "stream",
          "name": "stdout",
          "text": [
            "Accuracy: 66.67%\n"
          ]
        }
      ],
      "source": [
        "features = np.array([[row['age'], row['income'], row['student'], row['credit_rating']] for row in dataset])\n",
        "target = np.array([row['buys_computer'] for row in dataset])\n",
        "label_encoder = LabelEncoder()\n",
        "for i in range(features.shape[1]):\n",
        "    features[:, i] = label_encoder.fit_transform(features[:, i])\n",
        "features = features.astype(float)\n",
        "X_train, X_test, y_train, y_test = train_test_split(features, target, test_size=0.2, random_state=42)\n",
        "gnb_classifier = GaussianNB()\n",
        "gnb_classifier.fit(X_train, y_train)\n",
        "predictions = gnb_classifier.predict(X_test)\n",
        "accuracy = np.sum(predictions == y_test) / len(y_test)\n",
        "print(f'Accuracy: {accuracy:.2%}')"
      ]
    },
    {
      "cell_type": "markdown",
      "metadata": {
        "id": "nJwRuA0MDpwR"
      },
      "source": [
        "A5. Build a NB classifier for your own project data."
      ]
    },
    {
      "cell_type": "code",
      "execution_count": 8,
      "metadata": {
        "colab": {
          "base_uri": "https://localhost:8080/"
        },
        "id": "GqpPPPepDpwR",
        "outputId": "59bf623c-6224-45c0-d243-8fe44022d248"
      },
      "outputs": [
        {
          "output_type": "stream",
          "name": "stdout",
          "text": [
            "Accuracy: 55.00%\n"
          ]
        }
      ],
      "source": [
        "data = pd.read_excel('/content/embeddingsdata.xlsx')\n",
        "features = data.iloc[:, :-1]\n",
        "target = data.iloc[:, -1]\n",
        "label_encoder = LabelEncoder()\n",
        "for col in features.columns:\n",
        "    features[col] = label_encoder.fit_transform(features[col])\n",
        "features = features.astype(float)\n",
        "features_train, features_test, target_train, target_test = train_test_split(features, target, test_size=0.2, random_state=42)\n",
        "gnb_classifier = GaussianNB()\n",
        "gnb_classifier.fit(features_train, target_train)\n",
        "predictions = gnb_classifier.predict(features_test)\n",
        "accuracy = np.sum(predictions == target_test) / len(target_test)\n",
        "print(f'Accuracy: {accuracy:.2%}')"
      ]
    },
    {
      "cell_type": "code",
      "execution_count": null,
      "metadata": {
        "id": "XUHO4cRFDpwT"
      },
      "outputs": [],
      "source": []
    }
  ],
  "metadata": {
    "kernelspec": {
      "display_name": "Python 3",
      "language": "python",
      "name": "python3"
    },
    "language_info": {
      "codemirror_mode": {
        "name": "ipython",
        "version": 3
      },
      "file_extension": ".py",
      "mimetype": "text/x-python",
      "name": "python",
      "nbconvert_exporter": "python",
      "pygments_lexer": "ipython3",
      "version": "3.10.5"
    },
    "colab": {
      "provenance": []
    }
  },
  "nbformat": 4,
  "nbformat_minor": 0
}